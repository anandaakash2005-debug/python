{
 "cells": [
  {
   "cell_type": "code",
   "execution_count": 7,
   "id": "454a22d2-58d2-4ce0-9529-fe20d85fb730",
   "metadata": {},
   "outputs": [
    {
     "name": "stdout",
     "output_type": "stream",
     "text": [
      "akash mahapatra\n"
     ]
    }
   ],
   "source": [
    "print(\"akash mahapatra\")"
   ]
  },
  {
   "cell_type": "code",
   "execution_count": null,
   "id": "39a330af-c94e-464a-8a25-cd86b4d6cba7",
   "metadata": {},
   "outputs": [],
   "source": []
  }
 ],
 "metadata": {
  "kernelspec": {
   "display_name": "Python [conda env:anaconda3]",
   "language": "python",
   "name": "conda-env-anaconda3-py"
  },
  "language_info": {
   "codemirror_mode": {
    "name": "ipython",
    "version": 3
   },
   "file_extension": ".py",
   "mimetype": "text/x-python",
   "name": "python",
   "nbconvert_exporter": "python",
   "pygments_lexer": "ipython3",
   "version": "3.12.7"
  }
 },
 "nbformat": 4,
 "nbformat_minor": 5
}
